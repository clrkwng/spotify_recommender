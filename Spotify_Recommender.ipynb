{
 "cells": [
  {
   "cell_type": "code",
   "execution_count": 1,
   "metadata": {},
   "outputs": [],
   "source": [
    "#import pandas, numpy, spotipy, seaborn\n",
    "import pandas as pd\n",
    "import numpy as np\n",
    "import seaborn as sns\n",
    "import spotipy\n",
    "from spotipy.oauth2 import SpotifyClientCredentials\n",
    "import spotipy.util as util"
   ]
  },
  {
   "cell_type": "code",
   "execution_count": 2,
   "metadata": {},
   "outputs": [],
   "source": [
    "#login and authorize\n",
    "client = '91215105605748889a948c791dd7c1ca'\n",
    "secret = 'c63ad8f635da469383c47cfd2fa0d2f3'\n",
    "username = 'clwang07733'\n",
    "redirect_uri = 'https://developer.spotify.com/dashboard/applications/91215105605748889a948c791dd7c1ca'\n",
    "\n",
    "#accessing private playlist and creating public playlist with my recommendations\n",
    "scope = 'user-library-read playlist-modify-public playlist-read-private'\n",
    "\n",
    "#DO NOT CHANGE\n",
    "client_credentials_manager = SpotifyClientCredentials(client_id = client, client_secret = secret)\n",
    "sp = spotipy.Spotify(client_credentials_manager = client_credentials_manager)\n",
    "token = util.prompt_for_user_token(username, scope, client, secret, redirect_uri)\n",
    "\n",
    "if token:\n",
    "    sp = spotipy.Spotify(auth = token)\n",
    "else:\n",
    "    print(\"Can't get token for\", username)"
   ]
  },
  {
   "cell_type": "code",
   "execution_count": 3,
   "metadata": {},
   "outputs": [],
   "source": [
    "#four arrays, two song name arrays, two feature name arrays\n",
    "#one dislike playlist, one like playlist\n",
    "#the audio_features arrays should be arrays of length 16 arrays, and the \n",
    "#https://open.spotify.com/user/clwang07733/playlist/2dbiV3B88Aky1Dv3kh7agj?si=oduslWusQmC_x-PokjKTQA\n",
    "#https://open.spotify.com/user/clwang07733/playlist/3N9QQeSALih0zd62Mi4Cyl?si=Ik9kfTWfQnyBRZ4Zi9W1yA"
   ]
  },
  {
   "cell_type": "code",
   "execution_count": 4,
   "metadata": {},
   "outputs": [],
   "source": [
    "def get_song_info(userID, playlistID):\n",
    "    song_names, song_ids, song_features = [], [], []\n",
    "    playlist_dict = sp.user_playlist(userID, playlistID)\n",
    "    temp_playlist = playlist_dict[\"tracks\"][\"items\"]\n",
    "    for i in temp_playlist:\n",
    "        song_names.append(i[\"track\"][\"name\"])\n",
    "        song_ids.append(i[\"track\"][\"id\"])\n",
    "        \n",
    "    song_features = sp.audio_features(song_ids)\n",
    "    return song_names, song_features"
   ]
  },
  {
   "cell_type": "code",
   "execution_count": 5,
   "metadata": {},
   "outputs": [],
   "source": [
    "goodPlaylistID = '2dbiV3B88Aky1Dv3kh7agj?si=oduslWusQmC_x-PokjKTQA'\n",
    "good_song_names, good_song_features = get_song_info(username, goodPlaylistID)\n",
    "\n",
    "badPlaylistID = '3N9QQeSALih0zd62Mi4Cyl?si=Ik9kfTWfQnyBRZ4Zi9W1yA'\n",
    "bad_song_names, bad_song_features = get_song_info(username, badPlaylistID)"
   ]
  },
  {
   "cell_type": "code",
   "execution_count": 6,
   "metadata": {},
   "outputs": [
    {
     "name": "stdout",
     "output_type": "stream",
     "text": [
      "['thank u, next', 'Money', \"God's Plan\", 'Taki Taki (with Selena Gomez, Ozuna & Cardi B)', 'FEFE (feat. Nicki Minaj, Murda Beatz)']\n"
     ]
    }
   ],
   "source": [
    "print(bad_song_names)"
   ]
  },
  {
   "cell_type": "code",
   "execution_count": null,
   "metadata": {},
   "outputs": [],
   "source": []
  }
 ],
 "metadata": {
  "kernelspec": {
   "display_name": "Python 3",
   "language": "python",
   "name": "python3"
  },
  "language_info": {
   "codemirror_mode": {
    "name": "ipython",
    "version": 3
   },
   "file_extension": ".py",
   "mimetype": "text/x-python",
   "name": "python",
   "nbconvert_exporter": "python",
   "pygments_lexer": "ipython3",
   "version": "3.6.5"
  }
 },
 "nbformat": 4,
 "nbformat_minor": 2
}
